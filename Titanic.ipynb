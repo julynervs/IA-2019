{
 "cells": [
  {
   "cell_type": "markdown",
   "metadata": {},
   "source": [
    "# E SE VOCÊ ESTIVESSE NO TITANIC?\n",
    "\n",
    "\n",
    "<img src='titanic.jpg' style=\"float:left\" width='50%'/>"
   ]
  },
  {
   "cell_type": "markdown",
   "metadata": {},
   "source": [
    "\"O naufrágio do RMS Titanic é o mais famoso naufrágio da história. Em 15 de abril de 1912, durante sua viagem inaugural, o Titanic afundou depois de colidir com um iceberg. Essa tragédia levou a comunidade internacional a melhores normas de segurança para os navios.\n",
    "\n",
    "Uma das razões pelas quais o naufrágio causou tamanha perda de vidas foi que não havia botes salva-vidas suficientes para os passageiros e a tripulação. Embora houvesse algum elemento de sorte envolvido na sobrevivência do naufrágio, alguns grupos de pessoas tinham maior probabilidade de sobreviver do que outros, como mulheres, crianças e a classe alta \"."
   ]
  },
  {
   "cell_type": "markdown",
   "metadata": {},
   "source": [
    "### Objetivos da tarefa\n",
    "\n",
    "\"Nesse desafio, vamos criar um modelo em machine learning capaz de predizer se determinado passageiro provavelmente sobreviveria ou não ao desastre do titanic\"\n",
    "\n",
    "\n",
    "#### Tipo da tarefa\n",
    "\n",
    "Classificação Binária\n",
    "\n",
    "\n",
    "#### Ambiente de dados de treinamento\n",
    "\n",
    "- sex (sexo do passageiro | male/female) Qualitativo nominal\n",
    "- age (idade do passageiro) Quantitavo contínuo\n",
    "- social_class (classe social do passageiro) Qualitativo ordinal"
   ]
  },
  {
   "cell_type": "code",
   "execution_count": 45,
   "metadata": {},
   "outputs": [],
   "source": [
    "import pandas as pd\n",
    "import numpy as np\n",
    "import matplotlib.pyplot as plt\n",
    "import seaborn as sb\n",
    "\n",
    "##import warnings\n",
    "##warnings.simplefilter(action='ignore', category=FutureWarning)\n",
    "\n",
    "%matplotlib inline"
   ]
  },
  {
   "cell_type": "code",
   "execution_count": 75,
   "metadata": {},
   "outputs": [],
   "source": [
    "df = pd.read_csv('titanic.csv')"
   ]
  },
  {
   "cell_type": "code",
   "execution_count": 53,
   "metadata": {},
   "outputs": [
    {
     "data": {
      "text/html": [
       "<div>\n",
       "<style scoped>\n",
       "    .dataframe tbody tr th:only-of-type {\n",
       "        vertical-align: middle;\n",
       "    }\n",
       "\n",
       "    .dataframe tbody tr th {\n",
       "        vertical-align: top;\n",
       "    }\n",
       "\n",
       "    .dataframe thead th {\n",
       "        text-align: right;\n",
       "    }\n",
       "</style>\n",
       "<table border=\"1\" class=\"dataframe\">\n",
       "  <thead>\n",
       "    <tr style=\"text-align: right;\">\n",
       "      <th></th>\n",
       "      <th>id</th>\n",
       "      <th>sex</th>\n",
       "      <th>age</th>\n",
       "      <th>social_class</th>\n",
       "      <th>survived</th>\n",
       "    </tr>\n",
       "  </thead>\n",
       "  <tbody>\n",
       "    <tr>\n",
       "      <th>0</th>\n",
       "      <td>0</td>\n",
       "      <td>1</td>\n",
       "      <td>22.0</td>\n",
       "      <td>3.0</td>\n",
       "      <td>no</td>\n",
       "    </tr>\n",
       "    <tr>\n",
       "      <th>1</th>\n",
       "      <td>1</td>\n",
       "      <td>0</td>\n",
       "      <td>38.0</td>\n",
       "      <td>1.0</td>\n",
       "      <td>yes</td>\n",
       "    </tr>\n",
       "    <tr>\n",
       "      <th>2</th>\n",
       "      <td>2</td>\n",
       "      <td>0</td>\n",
       "      <td>26.0</td>\n",
       "      <td>3.0</td>\n",
       "      <td>yes</td>\n",
       "    </tr>\n",
       "    <tr>\n",
       "      <th>3</th>\n",
       "      <td>3</td>\n",
       "      <td>0</td>\n",
       "      <td>35.0</td>\n",
       "      <td>1.0</td>\n",
       "      <td>yes</td>\n",
       "    </tr>\n",
       "    <tr>\n",
       "      <th>4</th>\n",
       "      <td>4</td>\n",
       "      <td>1</td>\n",
       "      <td>35.0</td>\n",
       "      <td>3.0</td>\n",
       "      <td>no</td>\n",
       "    </tr>\n",
       "  </tbody>\n",
       "</table>\n",
       "</div>"
      ],
      "text/plain": [
       "   id  sex   age  social_class survived\n",
       "0   0    1  22.0           3.0       no\n",
       "1   1    0  38.0           1.0      yes\n",
       "2   2    0  26.0           3.0      yes\n",
       "3   3    0  35.0           1.0      yes\n",
       "4   4    1  35.0           3.0       no"
      ]
     },
     "execution_count": 53,
     "metadata": {},
     "output_type": "execute_result"
    }
   ],
   "source": [
    "df.head()"
   ]
  },
  {
   "cell_type": "code",
   "execution_count": 54,
   "metadata": {},
   "outputs": [],
   "source": [
    "df = df.drop('id', axis=1)"
   ]
  },
  {
   "cell_type": "code",
   "execution_count": 55,
   "metadata": {},
   "outputs": [
    {
     "data": {
      "text/html": [
       "<div>\n",
       "<style scoped>\n",
       "    .dataframe tbody tr th:only-of-type {\n",
       "        vertical-align: middle;\n",
       "    }\n",
       "\n",
       "    .dataframe tbody tr th {\n",
       "        vertical-align: top;\n",
       "    }\n",
       "\n",
       "    .dataframe thead th {\n",
       "        text-align: right;\n",
       "    }\n",
       "</style>\n",
       "<table border=\"1\" class=\"dataframe\">\n",
       "  <thead>\n",
       "    <tr style=\"text-align: right;\">\n",
       "      <th></th>\n",
       "      <th>sex</th>\n",
       "      <th>age</th>\n",
       "      <th>social_class</th>\n",
       "    </tr>\n",
       "  </thead>\n",
       "  <tbody>\n",
       "    <tr>\n",
       "      <th>count</th>\n",
       "      <td>891.000000</td>\n",
       "      <td>891.000000</td>\n",
       "      <td>891.000000</td>\n",
       "    </tr>\n",
       "    <tr>\n",
       "      <th>mean</th>\n",
       "      <td>0.647587</td>\n",
       "      <td>29.699118</td>\n",
       "      <td>2.308642</td>\n",
       "    </tr>\n",
       "    <tr>\n",
       "      <th>std</th>\n",
       "      <td>0.477990</td>\n",
       "      <td>13.002015</td>\n",
       "      <td>0.836071</td>\n",
       "    </tr>\n",
       "    <tr>\n",
       "      <th>min</th>\n",
       "      <td>0.000000</td>\n",
       "      <td>0.420000</td>\n",
       "      <td>1.000000</td>\n",
       "    </tr>\n",
       "    <tr>\n",
       "      <th>25%</th>\n",
       "      <td>0.000000</td>\n",
       "      <td>22.000000</td>\n",
       "      <td>2.000000</td>\n",
       "    </tr>\n",
       "    <tr>\n",
       "      <th>50%</th>\n",
       "      <td>1.000000</td>\n",
       "      <td>29.699118</td>\n",
       "      <td>3.000000</td>\n",
       "    </tr>\n",
       "    <tr>\n",
       "      <th>75%</th>\n",
       "      <td>1.000000</td>\n",
       "      <td>35.000000</td>\n",
       "      <td>3.000000</td>\n",
       "    </tr>\n",
       "    <tr>\n",
       "      <th>max</th>\n",
       "      <td>1.000000</td>\n",
       "      <td>80.000000</td>\n",
       "      <td>3.000000</td>\n",
       "    </tr>\n",
       "  </tbody>\n",
       "</table>\n",
       "</div>"
      ],
      "text/plain": [
       "              sex         age  social_class\n",
       "count  891.000000  891.000000    891.000000\n",
       "mean     0.647587   29.699118      2.308642\n",
       "std      0.477990   13.002015      0.836071\n",
       "min      0.000000    0.420000      1.000000\n",
       "25%      0.000000   22.000000      2.000000\n",
       "50%      1.000000   29.699118      3.000000\n",
       "75%      1.000000   35.000000      3.000000\n",
       "max      1.000000   80.000000      3.000000"
      ]
     },
     "execution_count": 55,
     "metadata": {},
     "output_type": "execute_result"
    }
   ],
   "source": [
    "df.describe()"
   ]
  },
  {
   "cell_type": "code",
   "execution_count": 56,
   "metadata": {},
   "outputs": [
    {
     "data": {
      "text/plain": [
       "no     549\n",
       "yes    342\n",
       "Name: survived, dtype: int64"
      ]
     },
     "execution_count": 56,
     "metadata": {},
     "output_type": "execute_result"
    }
   ],
   "source": [
    "df['survived'].value_counts()"
   ]
  },
  {
   "cell_type": "code",
   "execution_count": 51,
   "metadata": {},
   "outputs": [
    {
     "data": {
      "text/plain": [
       "array([3., 1., 2.])"
      ]
     },
     "execution_count": 51,
     "metadata": {},
     "output_type": "execute_result"
    }
   ],
   "source": [
    "df['social_class'].unique()"
   ]
  },
  {
   "cell_type": "code",
   "execution_count": 58,
   "metadata": {},
   "outputs": [
    {
     "data": {
      "text/plain": [
       "3.0    47\n",
       "1.0    45\n",
       "2.0    17\n",
       "Name: social_class, dtype: int64"
      ]
     },
     "execution_count": 58,
     "metadata": {},
     "output_type": "execute_result"
    }
   ],
   "source": [
    "df.loc[((df['sex']==1) & (df['survived']=='yes')), 'social_class'].value_counts()"
   ]
  },
  {
   "cell_type": "code",
   "execution_count": 60,
   "metadata": {},
   "outputs": [
    {
     "data": {
      "text/plain": [
       "<seaborn.axisgrid.PairGrid at 0x7f2a70808400>"
      ]
     },
     "execution_count": 60,
     "metadata": {},
     "output_type": "execute_result"
    },
    {
     "data": {
      "image/png": "[encoded data removed]",
      "text/plain": [
       "<Figure size 593.25x540 with 12 Axes>"
      ]
     },
     "metadata": {
      "needs_background": "light"
     },
     "output_type": "display_data"
    }
   ],
   "source": [
    "sb.pairplot(df, hue='survived')"
   ]
  },
  {
   "cell_type": "code",
   "execution_count": 61,
   "metadata": {},
   "outputs": [
    {
     "data": {
      "text/plain": [
       "array([[ 1.        , 22.        ,  3.        ],\n",
       "       [ 0.        , 38.        ,  1.        ],\n",
       "       [ 0.        , 26.        ,  3.        ],\n",
       "       ...,\n",
       "       [ 0.        , 29.69911765,  3.        ],\n",
       "       [ 1.        , 26.        ,  1.        ],\n",
       "       [ 1.        , 32.        ,  3.        ]])"
      ]
     },
     "execution_count": 61,
     "metadata": {},
     "output_type": "execute_result"
    }
   ],
   "source": [
    "X = np.array(df.drop('survived', axis=1))\n",
    "X"
   ]
  },
  {
   "cell_type": "code",
   "execution_count": 62,
   "metadata": {},
   "outputs": [],
   "source": [
    "y = np.array(df.survived)"
   ]
  },
  {
   "cell_type": "code",
   "execution_count": 63,
   "metadata": {},
   "outputs": [
    {
     "data": {
      "text/plain": [
       "array(['no', 'yes', 'yes', 'yes', 'no', 'no', 'no', 'no', 'yes', 'yes',\n",
       "       'yes', 'yes', 'no', 'no', 'no', 'yes', 'no', 'yes', 'no', 'yes',\n",
       "       'no', 'yes', 'yes', 'yes', 'no', 'yes', 'no', 'no', 'yes', 'no',\n",
       "       'no', 'yes', 'yes', 'no', 'no', 'no', 'yes', 'no', 'no', 'yes',\n",
       "       'no', 'no', 'no', 'yes', 'yes', 'no', 'no', 'yes', 'no', 'no',\n",
       "       'no', 'no', 'yes', 'yes', 'no', 'yes', 'yes', 'no', 'yes', 'no',\n",
       "       'no', 'yes', 'no', 'no', 'no', 'yes', 'yes', 'no', 'yes', 'no',\n",
       "       'no', 'no', 'no', 'no', 'yes', 'no', 'no', 'no', 'yes', 'yes',\n",
       "       'no', 'yes', 'yes', 'no', 'yes', 'yes', 'no', 'no', 'yes', 'no',\n",
       "       'no', 'no', 'no', 'no', 'no', 'no', 'no', 'yes', 'yes', 'no', 'no',\n",
       "       'no', 'no', 'no', 'no', 'no', 'yes', 'yes', 'no', 'yes', 'no',\n",
       "       'no', 'no', 'no', 'no', 'no', 'no', 'no', 'no', 'no', 'no', 'no',\n",
       "       'no', 'yes', 'no', 'yes', 'no', 'yes', 'yes', 'no', 'no', 'no',\n",
       "       'no', 'yes', 'no', 'no', 'yes', 'no', 'no', 'no', 'no', 'yes',\n",
       "       'yes', 'no', 'no', 'no', 'yes', 'no', 'no', 'no', 'no', 'yes',\n",
       "       'no', 'no', 'no', 'no', 'yes', 'no', 'no', 'no', 'no', 'yes', 'no',\n",
       "       'no', 'no', 'yes', 'yes', 'no', 'no', 'no', 'no', 'no', 'yes',\n",
       "       'no', 'no', 'no', 'no', 'no', 'no', 'no', 'no', 'no', 'no', 'yes',\n",
       "       'yes', 'no', 'yes', 'yes', 'no', 'no', 'yes', 'no', 'yes', 'yes',\n",
       "       'yes', 'yes', 'no', 'no', 'yes', 'no', 'no', 'no', 'no', 'no',\n",
       "       'yes', 'no', 'no', 'yes', 'yes', 'yes', 'no', 'yes', 'no', 'no',\n",
       "       'no', 'yes', 'yes', 'no', 'yes', 'no', 'yes', 'no', 'no', 'no',\n",
       "       'yes', 'no', 'yes', 'no', 'no', 'no', 'yes', 'no', 'no', 'yes',\n",
       "       'no', 'no', 'no', 'yes', 'no', 'no', 'no', 'yes', 'no', 'no', 'no',\n",
       "       'no', 'no', 'yes', 'yes', 'no', 'no', 'no', 'no', 'no', 'no',\n",
       "       'yes', 'yes', 'yes', 'yes', 'yes', 'no', 'yes', 'no', 'no', 'no',\n",
       "       'no', 'no', 'yes', 'yes', 'yes', 'no', 'yes', 'yes', 'no', 'yes',\n",
       "       'yes', 'no', 'no', 'no', 'yes', 'no', 'no', 'no', 'yes', 'no',\n",
       "       'no', 'yes', 'no', 'yes', 'yes', 'yes', 'yes', 'no', 'no', 'no',\n",
       "       'no', 'no', 'no', 'yes', 'yes', 'yes', 'yes', 'no', 'yes', 'no',\n",
       "       'yes', 'yes', 'yes', 'no', 'yes', 'yes', 'yes', 'no', 'no', 'no',\n",
       "       'yes', 'yes', 'no', 'yes', 'yes', 'no', 'no', 'yes', 'yes', 'no',\n",
       "       'yes', 'no', 'yes', 'yes', 'yes', 'yes', 'no', 'no', 'no', 'yes',\n",
       "       'no', 'no', 'yes', 'yes', 'no', 'yes', 'yes', 'no', 'no', 'no',\n",
       "       'yes', 'yes', 'yes', 'yes', 'no', 'no', 'no', 'no', 'no', 'no',\n",
       "       'no', 'yes', 'no', 'yes', 'yes', 'no', 'no', 'no', 'no', 'no',\n",
       "       'no', 'yes', 'yes', 'yes', 'yes', 'yes', 'no', 'no', 'no', 'no',\n",
       "       'yes', 'yes', 'no', 'no', 'no', 'yes', 'yes', 'no', 'yes', 'no',\n",
       "       'no', 'no', 'yes', 'no', 'yes', 'yes', 'yes', 'no', 'yes', 'yes',\n",
       "       'no', 'no', 'no', 'no', 'yes', 'yes', 'no', 'no', 'no', 'no', 'no',\n",
       "       'no', 'yes', 'no', 'no', 'no', 'no', 'yes', 'no', 'yes', 'no',\n",
       "       'yes', 'yes', 'no', 'no', 'no', 'no', 'no', 'no', 'no', 'no',\n",
       "       'yes', 'yes', 'no', 'yes', 'yes', 'yes', 'yes', 'no', 'no', 'yes',\n",
       "       'no', 'yes', 'no', 'no', 'yes', 'no', 'no', 'yes', 'yes', 'yes',\n",
       "       'yes', 'yes', 'yes', 'yes', 'no', 'no', 'no', 'yes', 'no', 'yes',\n",
       "       'no', 'yes', 'yes', 'no', 'yes', 'no', 'no', 'no', 'no', 'no',\n",
       "       'no', 'no', 'no', 'yes', 'no', 'no', 'yes', 'yes', 'no', 'no',\n",
       "       'no', 'no', 'no', 'yes', 'no', 'no', 'no', 'yes', 'yes', 'no',\n",
       "       'yes', 'no', 'no', 'yes', 'no', 'no', 'no', 'no', 'no', 'no',\n",
       "       'yes', 'no', 'no', 'no', 'no', 'no', 'no', 'no', 'yes', 'no',\n",
       "       'yes', 'yes', 'no', 'yes', 'yes', 'no', 'yes', 'yes', 'no', 'no',\n",
       "       'yes', 'no', 'yes', 'no', 'yes', 'no', 'no', 'yes', 'no', 'no',\n",
       "       'yes', 'no', 'no', 'no', 'yes', 'no', 'no', 'yes', 'no', 'yes',\n",
       "       'no', 'yes', 'no', 'yes', 'yes', 'no', 'no', 'yes', 'no', 'no',\n",
       "       'yes', 'yes', 'no', 'yes', 'yes', 'no', 'no', 'yes', 'yes', 'no',\n",
       "       'yes', 'no', 'yes', 'yes', 'no', 'no', 'no', 'no', 'no', 'no',\n",
       "       'no', 'no', 'no', 'yes', 'yes', 'yes', 'yes', 'yes', 'no', 'no',\n",
       "       'yes', 'yes', 'no', 'yes', 'yes', 'yes', 'no', 'no', 'no', 'yes',\n",
       "       'no', 'yes', 'no', 'no', 'no', 'yes', 'no', 'no', 'no', 'no',\n",
       "       'yes', 'no', 'no', 'yes', 'yes', 'no', 'no', 'no', 'yes', 'no',\n",
       "       'no', 'yes', 'yes', 'yes', 'no', 'no', 'yes', 'no', 'no', 'yes',\n",
       "       'no', 'no', 'yes', 'no', 'no', 'yes', 'yes', 'no', 'no', 'no',\n",
       "       'no', 'yes', 'no', 'no', 'yes', 'no', 'yes', 'no', 'no', 'yes',\n",
       "       'no', 'no', 'no', 'no', 'no', 'yes', 'no', 'yes', 'yes', 'yes',\n",
       "       'no', 'yes', 'no', 'yes', 'no', 'yes', 'no', 'yes', 'no', 'no',\n",
       "       'no', 'no', 'no', 'no', 'yes', 'no', 'no', 'no', 'yes', 'no', 'no',\n",
       "       'no', 'no', 'yes', 'yes', 'no', 'no', 'yes', 'no', 'no', 'no',\n",
       "       'yes', 'no', 'yes', 'no', 'yes', 'no', 'no', 'no', 'no', 'no',\n",
       "       'no', 'no', 'yes', 'yes', 'yes', 'yes', 'no', 'no', 'no', 'no',\n",
       "       'yes', 'no', 'no', 'yes', 'yes', 'no', 'no', 'no', 'no', 'yes',\n",
       "       'yes', 'yes', 'yes', 'yes', 'no', 'yes', 'no', 'no', 'no', 'yes',\n",
       "       'yes', 'no', 'no', 'yes', 'no', 'no', 'no', 'yes', 'no', 'yes',\n",
       "       'yes', 'no', 'no', 'yes', 'no', 'no', 'no', 'no', 'no', 'no',\n",
       "       'yes', 'no', 'no', 'yes', 'no', 'yes', 'no', 'yes', 'no', 'no',\n",
       "       'yes', 'no', 'no', 'yes', 'yes', 'no', 'no', 'yes', 'yes', 'no',\n",
       "       'no', 'no', 'yes', 'no', 'no', 'yes', 'yes', 'no', 'yes', 'no',\n",
       "       'no', 'no', 'no', 'no', 'no', 'no', 'no', 'yes', 'no', 'no', 'yes',\n",
       "       'no', 'yes', 'yes', 'yes', 'no', 'no', 'no', 'no', 'yes', 'no',\n",
       "       'yes', 'no', 'no', 'no', 'no', 'no', 'no', 'no', 'yes', 'yes',\n",
       "       'no', 'no', 'no', 'yes', 'yes', 'yes', 'yes', 'no', 'no', 'no',\n",
       "       'no', 'yes', 'no', 'no', 'no', 'no', 'no', 'no', 'no', 'no', 'no',\n",
       "       'no', 'yes', 'yes', 'no', 'yes', 'no', 'no', 'no', 'yes', 'yes',\n",
       "       'yes', 'yes', 'yes', 'no', 'no', 'no', 'yes', 'no', 'no', 'yes',\n",
       "       'yes', 'no', 'no', 'yes', 'no', 'no', 'no', 'no', 'no', 'no',\n",
       "       'yes', 'no', 'no', 'no', 'yes', 'no', 'yes', 'yes', 'yes', 'yes',\n",
       "       'no', 'no', 'no', 'yes', 'no', 'no', 'yes', 'yes', 'no', 'no',\n",
       "       'yes', 'no', 'yes', 'no', 'no', 'yes', 'yes', 'no', 'no', 'no',\n",
       "       'yes', 'yes', 'no', 'no', 'no', 'no', 'no', 'no', 'yes', 'no',\n",
       "       'yes', 'no'], dtype=object)"
      ]
     },
     "execution_count": 63,
     "metadata": {},
     "output_type": "execute_result"
    }
   ],
   "source": [
    "y"
   ]
  },
  {
   "cell_type": "code",
   "execution_count": 64,
   "metadata": {},
   "outputs": [],
   "source": [
    "from sklearn import tree"
   ]
  },
  {
   "cell_type": "code",
   "execution_count": 65,
   "metadata": {},
   "outputs": [],
   "source": [
    "clf = tree.DecisionTreeClassifier()"
   ]
  },
  {
   "cell_type": "code",
   "execution_count": 66,
   "metadata": {},
   "outputs": [
    {
     "data": {
      "text/plain": [
       "DecisionTreeClassifier(class_weight=None, criterion='gini', max_depth=None,\n",
       "            max_features=None, max_leaf_nodes=None,\n",
       "            min_impurity_decrease=0.0, min_impurity_split=None,\n",
       "            min_samples_leaf=1, min_samples_split=2,\n",
       "            min_weight_fraction_leaf=0.0, presort=False, random_state=None,\n",
       "            splitter='best')"
      ]
     },
     "execution_count": 66,
     "metadata": {},
     "output_type": "execute_result"
    }
   ],
   "source": [
    "clf.fit(X,y)"
   ]
  },
  {
   "cell_type": "code",
   "execution_count": 67,
   "metadata": {},
   "outputs": [
    {
     "data": {
      "text/plain": [
       "array(['no', 'no', 'no', 'yes'], dtype=object)"
      ]
     },
     "execution_count": 67,
     "metadata": {},
     "output_type": "execute_result"
    }
   ],
   "source": [
    "## sex, age, social_class\n",
    "\n",
    "clf.predict([[1, 42, 2],\n",
    "             [0, 26, 2],\n",
    "             [1, 15, 2],\n",
    "             [1,  6, 2],\n",
    "            ])"
   ]
  },
  {
   "cell_type": "code",
   "execution_count": 68,
   "metadata": {},
   "outputs": [
    {
     "data": {
      "text/plain": [
       "array([[0.5, 0.5],\n",
       "       [1. , 0. ],\n",
       "       [1. , 0. ],\n",
       "       [0. , 1. ]])"
      ]
     },
     "execution_count": 68,
     "metadata": {},
     "output_type": "execute_result"
    }
   ],
   "source": [
    "clf.predict_proba([[1, 45, 2],\n",
    "                   [0, 26, 2],\n",
    "                   [1, 15, 2],\n",
    "                   [1,  6, 2],\n",
    "                  ])\n",
    "\n"
   ]
  },
  {
   "cell_type": "markdown",
   "metadata": {},
   "source": [
    "## Salvando o modelo"
   ]
  },
  {
   "cell_type": "code",
   "execution_count": 69,
   "metadata": {},
   "outputs": [],
   "source": [
    "import pickle"
   ]
  },
  {
   "cell_type": "code",
   "execution_count": 70,
   "metadata": {},
   "outputs": [],
   "source": [
    "filename = 'titanic.plk'\n",
    "pickle.dump(clf, open(filename, 'wb'))"
   ]
  },
  {
   "cell_type": "markdown",
   "metadata": {},
   "source": [
    "## Carregando o modelo"
   ]
  },
  {
   "cell_type": "code",
   "execution_count": 71,
   "metadata": {},
   "outputs": [],
   "source": [
    "clf_loaded = pickle.load(open(filename, 'rb'))"
   ]
  },
  {
   "cell_type": "code",
   "execution_count": 72,
   "metadata": {},
   "outputs": [
    {
     "data": {
      "text/plain": [
       "array(['no', 'no', 'no', 'yes'], dtype=object)"
      ]
     },
     "execution_count": 72,
     "metadata": {},
     "output_type": "execute_result"
    }
   ],
   "source": [
    "clf_loaded.predict([[1, 42, 2],\n",
    "                    [0, 26, 2],\n",
    "                    [1, 15, 2],\n",
    "                    [1,  6, 2],\n",
    "                  ])"
   ]
  },
  {
   "cell_type": "code",
   "execution_count": null,
   "metadata": {},
   "outputs": [],
   "source": []
  }
 ],
 "metadata": {
  "kernelspec": {
   "display_name": "Python 3",
   "language": "python",
   "name": "python3"
  },
  "language_info": {
   "codemirror_mode": {
    "name": "ipython",
    "version": 3
   },
   "file_extension": ".py",
   "mimetype": "text/x-python",
   "name": "python",
   "nbconvert_exporter": "python",
   "pygments_lexer": "ipython3",
   "version": "3.6.7"
  }
 },
 "nbformat": 4,
 "nbformat_minor": 2
}
